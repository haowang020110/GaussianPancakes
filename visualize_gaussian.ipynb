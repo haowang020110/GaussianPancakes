{
 "cells": [
  {
   "cell_type": "code",
   "execution_count": 5,
   "metadata": {},
   "outputs": [
    {
     "ename": "ImportError",
     "evalue": "cannot import name '_C' from partially initialized module 'diff_gaussian_rasterization' (most likely due to a circular import) (submodules/diff-gaussian-rasterization/diff_gaussian_rasterization/__init__.py)",
     "output_type": "error",
     "traceback": [
      "\u001b[0;31m---------------------------------------------------------------------------\u001b[0m",
      "\u001b[0;31mImportError\u001b[0m                               Traceback (most recent call last)",
      "\u001b[1;32m/Users/Sierra1/Documents/University/03-PhD/04-Research/03-GAUSSIAN-SPLATTING/gaussian-splatting/visualize_gaussian.ipynb Cell 1\u001b[0m line \u001b[0;36m4\n\u001b[1;32m      <a href='vscode-notebook-cell:/Users/Sierra1/Documents/University/03-PhD/04-Research/03-GAUSSIAN-SPLATTING/gaussian-splatting/visualize_gaussian.ipynb#W0sZmlsZQ%3D%3D?line=1'>2</a>\u001b[0m sys\u001b[39m.\u001b[39mpath\u001b[39m.\u001b[39mappend(\u001b[39m'\u001b[39m\u001b[39mutils/\u001b[39m\u001b[39m'\u001b[39m)\n\u001b[1;32m      <a href='vscode-notebook-cell:/Users/Sierra1/Documents/University/03-PhD/04-Research/03-GAUSSIAN-SPLATTING/gaussian-splatting/visualize_gaussian.ipynb#W0sZmlsZQ%3D%3D?line=2'>3</a>\u001b[0m sys\u001b[39m.\u001b[39mpath\u001b[39m.\u001b[39mappend(\u001b[39m'\u001b[39m\u001b[39msubmodules/diff-gaussian-rasterization/\u001b[39m\u001b[39m'\u001b[39m)\n\u001b[0;32m----> <a href='vscode-notebook-cell:/Users/Sierra1/Documents/University/03-PhD/04-Research/03-GAUSSIAN-SPLATTING/gaussian-splatting/visualize_gaussian.ipynb#W0sZmlsZQ%3D%3D?line=3'>4</a>\u001b[0m \u001b[39mfrom\u001b[39;00m \u001b[39mutils\u001b[39;00m\u001b[39m.\u001b[39;00m\u001b[39mgaussian_viewing_utils\u001b[39;00m \u001b[39mimport\u001b[39;00m \u001b[39m*\u001b[39m \n",
      "File \u001b[0;32m~/Documents/University/03-PhD/04-Research/03-GAUSSIAN-SPLATTING/gaussian-splatting/utils/gaussian_viewing_utils.py:11\u001b[0m\n\u001b[1;32m      9\u001b[0m \u001b[39mimport\u001b[39;00m \u001b[39mtorch\u001b[39;00m\n\u001b[1;32m     10\u001b[0m \u001b[39mfrom\u001b[39;00m \u001b[39msystem_utils\u001b[39;00m \u001b[39mimport\u001b[39;00m searchForMaxIteration\n\u001b[0;32m---> 11\u001b[0m \u001b[39mfrom\u001b[39;00m \u001b[39mgaussian_renderer\u001b[39;00m \u001b[39mimport\u001b[39;00m render, GaussianModel \n\u001b[1;32m     12\u001b[0m \u001b[39mfrom\u001b[39;00m \u001b[39mgraphics_utils\u001b[39;00m \u001b[39mimport\u001b[39;00m focal2fov \n\u001b[1;32m     13\u001b[0m \u001b[39mfrom\u001b[39;00m \u001b[39mscene\u001b[39;00m\u001b[39m.\u001b[39;00m\u001b[39mcameras\u001b[39;00m \u001b[39mimport\u001b[39;00m Camera \u001b[39mas\u001b[39;00m GSCamera\n",
      "File \u001b[0;32m~/Documents/University/03-PhD/04-Research/03-GAUSSIAN-SPLATTING/gaussian-splatting/gaussian_renderer/__init__.py:14\u001b[0m\n\u001b[1;32m     12\u001b[0m \u001b[39mimport\u001b[39;00m \u001b[39mtorch\u001b[39;00m\n\u001b[1;32m     13\u001b[0m \u001b[39mimport\u001b[39;00m \u001b[39mmath\u001b[39;00m\n\u001b[0;32m---> 14\u001b[0m \u001b[39mfrom\u001b[39;00m \u001b[39mdiff_gaussian_rasterization\u001b[39;00m \u001b[39mimport\u001b[39;00m GaussianRasterizationSettings, GaussianRasterizer\n\u001b[1;32m     15\u001b[0m \u001b[39mfrom\u001b[39;00m \u001b[39mscene\u001b[39;00m\u001b[39m.\u001b[39;00m\u001b[39mgaussian_model\u001b[39;00m \u001b[39mimport\u001b[39;00m GaussianModel\n\u001b[1;32m     16\u001b[0m \u001b[39mfrom\u001b[39;00m \u001b[39mutils\u001b[39;00m\u001b[39m.\u001b[39;00m\u001b[39msh_utils\u001b[39;00m \u001b[39mimport\u001b[39;00m eval_sh\n",
      "File \u001b[0;32m~/Documents/University/03-PhD/04-Research/03-GAUSSIAN-SPLATTING/gaussian-splatting/submodules/diff-gaussian-rasterization/diff_gaussian_rasterization/__init__.py:15\u001b[0m\n\u001b[1;32m     13\u001b[0m \u001b[39mimport\u001b[39;00m \u001b[39mtorch\u001b[39;00m\u001b[39m.\u001b[39;00m\u001b[39mnn\u001b[39;00m \u001b[39mas\u001b[39;00m \u001b[39mnn\u001b[39;00m\n\u001b[1;32m     14\u001b[0m \u001b[39mimport\u001b[39;00m \u001b[39mtorch\u001b[39;00m\n\u001b[0;32m---> 15\u001b[0m \u001b[39mfrom\u001b[39;00m \u001b[39m.\u001b[39;00m \u001b[39mimport\u001b[39;00m _C\n\u001b[1;32m     17\u001b[0m \u001b[39mdef\u001b[39;00m \u001b[39mcpu_deep_copy_tuple\u001b[39m(input_tuple):\n\u001b[1;32m     18\u001b[0m     copied_tensors \u001b[39m=\u001b[39m [item\u001b[39m.\u001b[39mcpu()\u001b[39m.\u001b[39mclone() \u001b[39mif\u001b[39;00m \u001b[39misinstance\u001b[39m(item, torch\u001b[39m.\u001b[39mTensor) \u001b[39melse\u001b[39;00m item \u001b[39mfor\u001b[39;00m item \u001b[39min\u001b[39;00m input_tuple]\n",
      "\u001b[0;31mImportError\u001b[0m: cannot import name '_C' from partially initialized module 'diff_gaussian_rasterization' (most likely due to a circular import) (submodules/diff-gaussian-rasterization/diff_gaussian_rasterization/__init__.py)"
     ]
    }
   ],
   "source": [
    "import sys\n",
    "sys.path.append('utils/')\n",
    "sys.path.append('submodules/diff-gaussian-rasterization/')\n",
    "from utils.gaussian_viewing_utils import * "
   ]
  },
  {
   "cell_type": "code",
   "execution_count": null,
   "metadata": {},
   "outputs": [],
   "source": []
  }
 ],
 "metadata": {
  "kernelspec": {
   "display_name": "pytorch",
   "language": "python",
   "name": "python3"
  },
  "language_info": {
   "codemirror_mode": {
    "name": "ipython",
    "version": 3
   },
   "file_extension": ".py",
   "mimetype": "text/x-python",
   "name": "python",
   "nbconvert_exporter": "python",
   "pygments_lexer": "ipython3",
   "version": "3.8.5"
  }
 },
 "nbformat": 4,
 "nbformat_minor": 2
}
